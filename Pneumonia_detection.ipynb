{
  "nbformat": 4,
  "nbformat_minor": 0,
  "metadata": {
    "colab": {
      "provenance": [],
      "gpuType": "T4"
    },
    "kernelspec": {
      "name": "python3",
      "display_name": "Python 3"
    },
    "language_info": {
      "name": "python"
    },
    "accelerator": "GPU"
  },
  "cells": [
    {
      "cell_type": "markdown",
      "source": [
        "#Libraries"
      ],
      "metadata": {
        "id": "9coyMBypUzJZ"
      }
    },
    {
      "cell_type": "code",
      "execution_count": 1,
      "metadata": {
        "id": "Rs51X1JGJAU6"
      },
      "outputs": [],
      "source": [
        "import numpy as np\n",
        "import pandas as pd\n",
        "import matplotlib.pyplot as plt\n",
        "import seaborn as sns\n",
        "import tensorflow as tf\n",
        "from tensorflow.keras.layers import Input, RandomFlip, RandomRotation, RandomZoom\n",
        "from tensorflow.keras.models import Sequential\n",
        "from tensorflow.keras.layers import GlobalAveragePooling2D, Dense, Dropout\n",
        "from tensorflow.keras import regularizers\n",
        "from tensorflow.keras.callbacks import EarlyStopping, ReduceLROnPlateau\n",
        "from tensorflow.keras.applications import VGG16, ResNet50, InceptionV3, MobileNetV2, DenseNet121\n",
        "from sklearn.utils.class_weight import compute_class_weight\n",
        "\n",
        "\n",
        "from tensorflow.keras import mixed_precision\n",
        "mixed_precision.set_global_policy('mixed_float16')"
      ]
    },
    {
      "cell_type": "code",
      "source": [
        "# Constants\n",
        "BATCH_SIZE = 48\n",
        "IMAGE_HEIGHT = 224\n",
        "IMAGE_WIDTH = 224\n",
        "AUTOTUNE = tf.data.AUTOTUNE"
      ],
      "metadata": {
        "id": "klw-BZTtJIJH"
      },
      "execution_count": 6,
      "outputs": []
    },
    {
      "cell_type": "markdown",
      "source": [
        "#Optimised data pipeline"
      ],
      "metadata": {
        "id": "TsDubvoGU5V-"
      }
    },
    {
      "cell_type": "code",
      "source": [
        "train_ds = tf.keras.utils.image_dataset_from_directory(\n",
        "    \"/content/drive/MyDrive/Git/DL/chest_xray/train\",\n",
        "    labels='inferred',\n",
        "    label_mode='categorical',\n",
        "    image_size=(IMAGE_HEIGHT, IMAGE_WIDTH),\n",
        "    interpolation='nearest',\n",
        "    batch_size=BATCH_SIZE,\n",
        "    shuffle=True,\n",
        "    seed=42\n",
        ")\n",
        "\n",
        "test_ds = tf.keras.utils.image_dataset_from_directory(\n",
        "    \"/content/drive/MyDrive/Git/DL/chest_xray/test\",\n",
        "    labels='inferred',\n",
        "    label_mode='categorical',\n",
        "    image_size=(IMAGE_HEIGHT, IMAGE_WIDTH),\n",
        "    interpolation='nearest',\n",
        "    batch_size=BATCH_SIZE,\n",
        "    shuffle=False,\n",
        "    seed=42\n",
        ")\n",
        "\n",
        "class_names = train_ds.class_names\n",
        "print(\"Class Names:\", class_names)\n",
        "\n",
        "data_augmentation = Sequential([\n",
        "    Input(shape=(IMAGE_HEIGHT, IMAGE_WIDTH, 3)),\n",
        "    RandomFlip(\"horizontal\"),\n",
        "    RandomRotation(0.1),\n",
        "    RandomZoom(0.1),\n",
        "], name='data_augmentation')\n"
      ],
      "metadata": {
        "colab": {
          "base_uri": "https://localhost:8080/"
        },
        "id": "XDLSgo6yJS6f",
        "outputId": "b9b91942-e9af-4f90-b7b9-5ddd4e9cf9bf"
      },
      "execution_count": 7,
      "outputs": [
        {
          "output_type": "stream",
          "name": "stdout",
          "text": [
            "Found 5232 files belonging to 2 classes.\n",
            "Found 624 files belonging to 2 classes.\n",
            "Class Names: ['NORMAL', 'PNEUMONIA']\n"
          ]
        }
      ]
    },
    {
      "cell_type": "code",
      "source": [
        "def normalize_img(image, label):\n",
        "    return tf.cast(image, tf.float32) / 255.0, label\n",
        "\n",
        "train_ds = train_ds.map(normalize_img, num_parallel_calls=AUTOTUNE)\n",
        "train_ds = train_ds.cache().map(lambda x, y: (data_augmentation(x, training=True), y), num_parallel_calls=AUTOTUNE).prefetch(buffer_size=AUTOTUNE)\n",
        "\n",
        "test_ds = test_ds.map(normalize_img, num_parallel_calls=AUTOTUNE).cache().prefetch(buffer_size=AUTOTUNE)\n",
        "\n",
        "print(\"\\n tf.data pipeline created.\")"
      ],
      "metadata": {
        "colab": {
          "base_uri": "https://localhost:8080/"
        },
        "id": "c1C-XgAxSSvH",
        "outputId": "014933d4-43aa-4d37-b879-dfc5eca136e6"
      },
      "execution_count": 8,
      "outputs": [
        {
          "output_type": "stream",
          "name": "stdout",
          "text": [
            "\n",
            " tf.data pipeline created.\n"
          ]
        }
      ]
    },
    {
      "cell_type": "markdown",
      "source": [
        "#Class weights"
      ],
      "metadata": {
        "id": "IcoEVbROVId8"
      }
    },
    {
      "cell_type": "code",
      "source": [
        "DATA_FRACTION = 0.5\n",
        "train_ds_size = tf.data.experimental.cardinality(train_ds).numpy()\n",
        "train_subset_size = int(DATA_FRACTION * train_ds_size)\n",
        "\n",
        "# Create a subset of the training data\n",
        "train_ds_subset = train_ds.take(train_subset_size)\n",
        "print(f\"Using {train_subset_size} of {train_ds_size} batches for training ({DATA_FRACTION:.0%}).\")\n",
        "\n",
        "print(\"\\nCalculating class weights on a sample...\")\n",
        "labels_sample = train_ds.unbatch().map(lambda img, label: label).take(1500)\n",
        "labels_sample_np = np.array([label.numpy() for label in labels_sample])\n",
        "\n",
        "class_weights = compute_class_weight(\n",
        "    class_weight=\"balanced\",\n",
        "    classes=np.unique(np.argmax(labels_sample_np, axis=1)),\n",
        "    y=np.argmax(labels_sample_np, axis=1)\n",
        ")\n",
        "class_weights = dict(enumerate(class_weights))\n",
        "print(\"Class Weights:\", class_weights)"
      ],
      "metadata": {
        "colab": {
          "base_uri": "https://localhost:8080/"
        },
        "id": "KtmRa2ZsQciW",
        "outputId": "78d85474-67c3-4b61-f834-3564f89877bc"
      },
      "execution_count": 9,
      "outputs": [
        {
          "output_type": "stream",
          "name": "stdout",
          "text": [
            "Using 54 of 109 batches for training (50%).\n",
            "\n",
            "Calculating class weights on a sample...\n",
            "Class Weights: {0: np.float64(1.8427518427518428), 1: np.float64(0.6861848124428179)}\n"
          ]
        }
      ]
    },
    {
      "cell_type": "markdown",
      "source": [
        "#Model training"
      ],
      "metadata": {
        "id": "fghIDnt_VSQh"
      }
    },
    {
      "cell_type": "code",
      "source": [
        "def build_and_train_model(base_model_class, model_name, train_data, test_data, class_weights_dict, epochs_to_run, input_shape=(IMAGE_HEIGHT, IMAGE_WIDTH, 3)):\n",
        "    print(f\"\\n--- Building and Training {model_name} ---\")\n",
        "\n",
        "    # Load the base model with pre-trained ImageNet weights, freezing its layers\n",
        "    base_model = base_model_class(weights='imagenet', include_top=False, input_shape=input_shape)\n",
        "    base_model.trainable = False\n",
        "\n",
        "    model = Sequential([\n",
        "        base_model,\n",
        "        GlobalAveragePooling2D(),\n",
        "        Dense(128, activation='relu', kernel_regularizer=regularizers.l2(0.001)),\n",
        "        Dropout(0.4),\n",
        "        Dense(64, activation='relu', kernel_regularizer=regularizers.l2(0.001)),\n",
        "        Dropout(0.2),\n",
        "        Dense(2, activation='softmax', dtype='float32')\n",
        "    ], name=model_name)\n",
        "\n",
        "    model.compile(optimizer='adam', loss='categorical_crossentropy', metrics=['accuracy'])\n",
        "\n",
        "    early_stopping = EarlyStopping(monitor='val_accuracy', patience=3, verbose=1, restore_best_weights=True)\n",
        "    #reduce_lr = ReduceLROnPlateau(monitor='val_accuracy', factor=0.1, patience=2, verbose=1)\n",
        "\n",
        "    history = model.fit(\n",
        "        train_data,\n",
        "        epochs=epochs_to_run,\n",
        "        validation_data=test_data,\n",
        "        callbacks=[early_stopping],\n",
        "        class_weight=class_weights_dict\n",
        "    )\n",
        "\n",
        "    _, val_accuracy = model.evaluate(test_data, verbose=0)\n",
        "    print(f'Validation Accuracy ({model_name}): {val_accuracy:.4f}')\n",
        "\n",
        "    return model, history, val_accuracy\n"
      ],
      "metadata": {
        "id": "bvAFPlEVTRGj"
      },
      "execution_count": 10,
      "outputs": []
    },
    {
      "cell_type": "code",
      "source": [
        "models_to_train = {\n",
        "    \"VGG16\": VGG16,\n",
        "    \"MobileNetV2\": MobileNetV2,\n",
        "    \"DenseNet121\": DenseNet121,\n",
        "    \"InceptionV3\": InceptionV3,\n",
        "    \"ResNet50\": ResNet50\n",
        "}\n",
        "\n",
        "trained_models = {}\n",
        "model_histories = {}\n",
        "\n",
        "model_accuracies = {}\n",
        "for name, model_class in models_to_train.items():\n",
        "    model, history, val_acc = build_and_train_model(\n",
        "        model_class, name, train_ds_subset, test_ds, class_weights, epochs_to_run=5\n",
        "    )\n",
        "    trained_models[name] = model\n",
        "    model_histories[name] = history\n",
        "    model_accuracies[name] = val_acc\n",
        "    print(f\"\\n--- Finished initial training for {name} ---\\n\")"
      ],
      "metadata": {
        "colab": {
          "base_uri": "https://localhost:8080/"
        },
        "id": "5CMVIA9PRel5",
        "outputId": "9fdb63df-23e2-4592-bb6a-46241f99051d"
      },
      "execution_count": 18,
      "outputs": [
        {
          "output_type": "stream",
          "name": "stdout",
          "text": [
            "\n",
            "--- Building and Training VGG16 ---\n",
            "Epoch 1/5\n",
            "\u001b[1m54/54\u001b[0m \u001b[32m━━━━━━━━━━━━━━━━━━━━\u001b[0m\u001b[37m\u001b[0m \u001b[1m34s\u001b[0m 502ms/step - accuracy: 0.5945 - loss: 0.8959 - val_accuracy: 0.8173 - val_loss: 0.5766\n",
            "Epoch 2/5\n",
            "\u001b[1m54/54\u001b[0m \u001b[32m━━━━━━━━━━━━━━━━━━━━\u001b[0m\u001b[37m\u001b[0m \u001b[1m29s\u001b[0m 529ms/step - accuracy: 0.8677 - loss: 0.4539 - val_accuracy: 0.8365 - val_loss: 0.4875\n",
            "Epoch 3/5\n",
            "\u001b[1m54/54\u001b[0m \u001b[32m━━━━━━━━━━━━━━━━━━━━\u001b[0m\u001b[37m\u001b[0m \u001b[1m49s\u001b[0m 678ms/step - accuracy: 0.8911 - loss: 0.3565 - val_accuracy: 0.8381 - val_loss: 0.4595\n",
            "Epoch 4/5\n",
            "\u001b[1m54/54\u001b[0m \u001b[32m━━━━━━━━━━━━━━━━━━━━\u001b[0m\u001b[37m\u001b[0m \u001b[1m37s\u001b[0m 677ms/step - accuracy: 0.8947 - loss: 0.3336 - val_accuracy: 0.8542 - val_loss: 0.4106\n",
            "Epoch 5/5\n",
            "\u001b[1m54/54\u001b[0m \u001b[32m━━━━━━━━━━━━━━━━━━━━\u001b[0m\u001b[37m\u001b[0m \u001b[1m29s\u001b[0m 532ms/step - accuracy: 0.9139 - loss: 0.2938 - val_accuracy: 0.8478 - val_loss: 0.4344\n",
            "Restoring model weights from the end of the best epoch: 4.\n",
            "Validation Accuracy (VGG16): 0.8542\n",
            "\n",
            "--- Finished initial training for VGG16 ---\n",
            "\n",
            "\n",
            "--- Building and Training MobileNetV2 ---\n",
            "Epoch 1/5\n",
            "\u001b[1m54/54\u001b[0m \u001b[32m━━━━━━━━━━━━━━━━━━━━\u001b[0m\u001b[37m\u001b[0m \u001b[1m58s\u001b[0m 662ms/step - accuracy: 0.7384 - loss: 0.8017 - val_accuracy: 0.7933 - val_loss: 0.7385\n",
            "Epoch 2/5\n",
            "\u001b[1m54/54\u001b[0m \u001b[32m━━━━━━━━━━━━━━━━━━━━\u001b[0m\u001b[37m\u001b[0m \u001b[1m29s\u001b[0m 529ms/step - accuracy: 0.9117 - loss: 0.4776 - val_accuracy: 0.8590 - val_loss: 0.5248\n",
            "Epoch 3/5\n",
            "\u001b[1m54/54\u001b[0m \u001b[32m━━━━━━━━━━━━━━━━━━━━\u001b[0m\u001b[37m\u001b[0m \u001b[1m28s\u001b[0m 517ms/step - accuracy: 0.9239 - loss: 0.4047 - val_accuracy: 0.8654 - val_loss: 0.5130\n",
            "Epoch 4/5\n",
            "\u001b[1m54/54\u001b[0m \u001b[32m━━━━━━━━━━━━━━━━━━━━\u001b[0m\u001b[37m\u001b[0m \u001b[1m28s\u001b[0m 511ms/step - accuracy: 0.9274 - loss: 0.3386 - val_accuracy: 0.8542 - val_loss: 0.5410\n",
            "Epoch 5/5\n",
            "\u001b[1m54/54\u001b[0m \u001b[32m━━━━━━━━━━━━━━━━━━━━\u001b[0m\u001b[37m\u001b[0m \u001b[1m28s\u001b[0m 510ms/step - accuracy: 0.9274 - loss: 0.3289 - val_accuracy: 0.8702 - val_loss: 0.4550\n",
            "Restoring model weights from the end of the best epoch: 5.\n",
            "Validation Accuracy (MobileNetV2): 0.8702\n",
            "\n",
            "--- Finished initial training for MobileNetV2 ---\n",
            "\n",
            "\n",
            "--- Building and Training DenseNet121 ---\n",
            "Epoch 1/5\n",
            "\u001b[1m54/54\u001b[0m \u001b[32m━━━━━━━━━━━━━━━━━━━━\u001b[0m\u001b[37m\u001b[0m \u001b[1m68s\u001b[0m 702ms/step - accuracy: 0.7222 - loss: 0.8156 - val_accuracy: 0.8221 - val_loss: 0.5538\n",
            "Epoch 2/5\n",
            "\u001b[1m54/54\u001b[0m \u001b[32m━━━━━━━━━━━━━━━━━━━━\u001b[0m\u001b[37m\u001b[0m \u001b[1m30s\u001b[0m 539ms/step - accuracy: 0.8744 - loss: 0.4562 - val_accuracy: 0.8590 - val_loss: 0.4838\n",
            "Epoch 3/5\n",
            "\u001b[1m54/54\u001b[0m \u001b[32m━━━━━━━━━━━━━━━━━━━━\u001b[0m\u001b[37m\u001b[0m \u001b[1m29s\u001b[0m 525ms/step - accuracy: 0.9106 - loss: 0.3800 - val_accuracy: 0.7933 - val_loss: 0.6028\n",
            "Epoch 4/5\n",
            "\u001b[1m54/54\u001b[0m \u001b[32m━━━━━━━━━━━━━━━━━━━━\u001b[0m\u001b[37m\u001b[0m \u001b[1m36s\u001b[0m 651ms/step - accuracy: 0.9028 - loss: 0.3647 - val_accuracy: 0.8542 - val_loss: 0.5027\n",
            "Epoch 5/5\n",
            "\u001b[1m54/54\u001b[0m \u001b[32m━━━━━━━━━━━━━━━━━━━━\u001b[0m\u001b[37m\u001b[0m \u001b[1m28s\u001b[0m 517ms/step - accuracy: 0.9115 - loss: 0.3389 - val_accuracy: 0.8494 - val_loss: 0.4724\n",
            "Epoch 5: early stopping\n",
            "Restoring model weights from the end of the best epoch: 2.\n",
            "Validation Accuracy (DenseNet121): 0.8590\n",
            "\n",
            "--- Finished initial training for DenseNet121 ---\n",
            "\n",
            "\n",
            "--- Building and Training InceptionV3 ---\n",
            "Epoch 1/5\n",
            "\u001b[1m54/54\u001b[0m \u001b[32m━━━━━━━━━━━━━━━━━━━━\u001b[0m\u001b[37m\u001b[0m \u001b[1m53s\u001b[0m 587ms/step - accuracy: 0.7024 - loss: 0.9043 - val_accuracy: 0.7612 - val_loss: 0.7638\n",
            "Epoch 2/5\n",
            "\u001b[1m54/54\u001b[0m \u001b[32m━━━━━━━━━━━━━━━━━━━━\u001b[0m\u001b[37m\u001b[0m \u001b[1m28s\u001b[0m 508ms/step - accuracy: 0.8697 - loss: 0.5401 - val_accuracy: 0.7564 - val_loss: 0.7190\n",
            "Epoch 3/5\n",
            "\u001b[1m54/54\u001b[0m \u001b[32m━━━━━━━━━━━━━━━━━━━━\u001b[0m\u001b[37m\u001b[0m \u001b[1m28s\u001b[0m 509ms/step - accuracy: 0.9021 - loss: 0.4599 - val_accuracy: 0.7612 - val_loss: 0.7302\n",
            "Epoch 4/5\n",
            "\u001b[1m54/54\u001b[0m \u001b[32m━━━━━━━━━━━━━━━━━━━━\u001b[0m\u001b[37m\u001b[0m \u001b[1m41s\u001b[0m 512ms/step - accuracy: 0.8996 - loss: 0.4208 - val_accuracy: 0.7933 - val_loss: 0.6679\n",
            "Epoch 5/5\n",
            "\u001b[1m54/54\u001b[0m \u001b[32m━━━━━━━━━━━━━━━━━━━━\u001b[0m\u001b[37m\u001b[0m \u001b[1m28s\u001b[0m 507ms/step - accuracy: 0.9178 - loss: 0.3815 - val_accuracy: 0.7692 - val_loss: 0.6773\n",
            "Restoring model weights from the end of the best epoch: 4.\n",
            "Validation Accuracy (InceptionV3): 0.7933\n",
            "\n",
            "--- Finished initial training for InceptionV3 ---\n",
            "\n",
            "\n",
            "--- Building and Training ResNet50 ---\n",
            "Epoch 1/5\n",
            "\u001b[1m54/54\u001b[0m \u001b[32m━━━━━━━━━━━━━━━━━━━━\u001b[0m\u001b[37m\u001b[0m \u001b[1m46s\u001b[0m 554ms/step - accuracy: 0.5091 - loss: 0.9612 - val_accuracy: 0.3750 - val_loss: 0.7706\n",
            "Epoch 2/5\n",
            "\u001b[1m54/54\u001b[0m \u001b[32m━━━━━━━━━━━━━━━━━━━━\u001b[0m\u001b[37m\u001b[0m \u001b[1m32s\u001b[0m 515ms/step - accuracy: 0.5219 - loss: 0.7607 - val_accuracy: 0.3750 - val_loss: 0.7524\n",
            "Epoch 3/5\n",
            "\u001b[1m54/54\u001b[0m \u001b[32m━━━━━━━━━━━━━━━━━━━━\u001b[0m\u001b[37m\u001b[0m \u001b[1m41s\u001b[0m 510ms/step - accuracy: 0.5735 - loss: 0.7289 - val_accuracy: 0.5112 - val_loss: 0.7314\n",
            "Epoch 4/5\n",
            "\u001b[1m54/54\u001b[0m \u001b[32m━━━━━━━━━━━━━━━━━━━━\u001b[0m\u001b[37m\u001b[0m \u001b[1m35s\u001b[0m 634ms/step - accuracy: 0.6054 - loss: 0.7113 - val_accuracy: 0.7724 - val_loss: 0.6832\n",
            "Epoch 5/5\n",
            "\u001b[1m54/54\u001b[0m \u001b[32m━━━━━━━━━━━━━━━━━━━━\u001b[0m\u001b[37m\u001b[0m \u001b[1m28s\u001b[0m 497ms/step - accuracy: 0.6685 - loss: 0.6868 - val_accuracy: 0.6875 - val_loss: 0.6818\n",
            "Restoring model weights from the end of the best epoch: 4.\n",
            "Validation Accuracy (ResNet50): 0.7724\n",
            "\n",
            "--- Finished initial training for ResNet50 ---\n",
            "\n"
          ]
        }
      ]
    },
    {
      "cell_type": "markdown",
      "source": [
        "#Model performance comparison"
      ],
      "metadata": {
        "id": "qeHjMVA4VYGu"
      }
    },
    {
      "cell_type": "code",
      "source": [
        "# --- 6. MODEL COMPARISON ---\n",
        "df = pd.DataFrame.from_dict(model_accuracies, orient='index', columns=['accuracy'])\n",
        "df = df.reset_index().rename(columns={'index': 'model'}).sort_values('accuracy', ascending=False)\n",
        "\n",
        "plt.figure(figsize=(10, 6))\n",
        "ax = sns.barplot(x='accuracy', y='model', data=df)\n",
        "ax.bar_label(ax.containers[0], label_type='edge', labels=[f\"{x:.2%}\" for x in df['accuracy']], fontsize=10)\n",
        "plt.title('Model Comparison by Validation Accuracy')\n",
        "plt.tight_layout()\n",
        "plt.show()"
      ],
      "metadata": {
        "colab": {
          "base_uri": "https://localhost:8080/",
          "height": 473
        },
        "id": "8uj7xuh5Wf0V",
        "outputId": "353c4cbd-9913-43ff-bcd0-ad6fe420f7c7"
      },
      "execution_count": 19,
      "outputs": [
        {
          "output_type": "display_data",
          "data": {
            "text/plain": [
              "<Figure size 1000x600 with 1 Axes>"
            ],
            "image/png": "[encoded data removed]"
          },
          "metadata": {}
        }
      ]
    },
    {
      "cell_type": "markdown",
      "source": [
        "#Fine-tuning the best model"
      ],
      "metadata": {
        "id": "YgHP9cZjVjzb"
      }
    },
    {
      "cell_type": "code",
      "source": [
        "best_model_name = df.iloc[0]['model']\n",
        "print(f\"Best performing model is {best_model_name}\")"
      ],
      "metadata": {
        "colab": {
          "base_uri": "https://localhost:8080/"
        },
        "id": "b0GVE4PIb062",
        "outputId": "cd3d5c6f-169f-43ce-841f-d376c5d206bd"
      },
      "execution_count": 20,
      "outputs": [
        {
          "output_type": "stream",
          "name": "stdout",
          "text": [
            "Best performing model is MobileNetV2\n"
          ]
        }
      ]
    },
    {
      "cell_type": "code",
      "source": [
        "best_model = trained_models[best_model_name]\n",
        "initial_history = model_histories[best_model_name]\n",
        "\n",
        "# Unfreeze the base model layers for fine-tuning\n",
        "base_model = best_model.layers[0]\n",
        "base_model.trainable = True\n",
        "\n",
        "# We'll freeze the first half of the layers and fine-tune the rest\n",
        "num_layers_to_freeze = len(base_model.layers) // 2\n",
        "print(f\"Freezing the first {num_layers_to_freeze} layers of {best_model_name}.\")\n",
        "\n",
        "for layer in base_model.layers[:num_layers_to_freeze]:\n",
        "    layer.trainable = False\n",
        "\n",
        "# Re-compile the model with a very low learning rate to avoid destroying learned features\n",
        "low_learning_rate = 1e-5\n",
        "best_model.compile(\n",
        "    optimizer=tf.keras.optimizers.Adam(learning_rate=low_learning_rate),\n",
        "    loss='categorical_crossentropy',\n",
        "    metrics=['accuracy']\n",
        ")\n",
        "\n",
        "print(\"\\nModel summary after unfreezing layers for fine-tuning:\")\n",
        "best_model.summary()\n",
        "\n",
        "fine_tune_epochs = 10\n",
        "total_epochs = 5 + fine_tune_epochs\n",
        "\n",
        "history_fine_tune = best_model.fit(\n",
        "    train_ds,  # Using the full training dataset now\n",
        "    epochs=total_epochs,\n",
        "    initial_epoch=initial_history.epoch[-1] + 1,\n",
        "    validation_data=test_ds,\n",
        "    class_weight=class_weights,\n",
        "    callbacks=[\n",
        "        EarlyStopping(monitor='val_accuracy', patience=3, verbose=1, restore_best_weights=True),\n",
        "        ReduceLROnPlateau(monitor='val_accuracy', factor=0.2, patience=2, verbose=1)\n",
        "    ]\n",
        ")"
      ],
      "metadata": {
        "colab": {
          "base_uri": "https://localhost:8080/",
          "height": 694
        },
        "id": "BWyr-_ZTcPvB",
        "outputId": "8d1bd896-a822-4eee-e929-7644ca42ccb7"
      },
      "execution_count": 22,
      "outputs": [
        {
          "output_type": "stream",
          "name": "stdout",
          "text": [
            "Freezing the first 77 layers of MobileNetV2.\n",
            "\n",
            "Model summary after unfreezing layers for fine-tuning:\n"
          ]
        },
        {
          "output_type": "display_data",
          "data": {
            "text/plain": [
              "\u001b[1mModel: \"MobileNetV2\"\u001b[0m\n"
            ],
            "text/html": [
              "<pre style=\"white-space:pre;overflow-x:auto;line-height:normal;font-family:Menlo,'DejaVu Sans Mono',consolas,'Courier New',monospace\"><span style=\"font-weight: bold\">Model: \"MobileNetV2\"</span>\n",
              "</pre>\n"
            ]
          },
          "metadata": {}
        },
        {
          "output_type": "display_data",
          "data": {
            "text/plain": [
              "┏━━━━━━━━━━━━━━━━━━━━━━━━━━━━━━━━━┳━━━━━━━━━━━━━━━━━━━━━━━━┳━━━━━━━━━━━━━━━┓\n",
              "┃\u001b[1m \u001b[0m\u001b[1mLayer (type)                   \u001b[0m\u001b[1m \u001b[0m┃\u001b[1m \u001b[0m\u001b[1mOutput Shape          \u001b[0m\u001b[1m \u001b[0m┃\u001b[1m \u001b[0m\u001b[1m      Param #\u001b[0m\u001b[1m \u001b[0m┃\n",
              "┡━━━━━━━━━━━━━━━━━━━━━━━━━━━━━━━━━╇━━━━━━━━━━━━━━━━━━━━━━━━╇━━━━━━━━━━━━━━━┩\n",
              "│ mobilenetv2_1.00_224            │ (\u001b[38;5;45mNone\u001b[0m, \u001b[38;5;34m7\u001b[0m, \u001b[38;5;34m7\u001b[0m, \u001b[38;5;34m1280\u001b[0m)     │     \u001b[38;5;34m2,257,984\u001b[0m │\n",
              "│ (\u001b[38;5;33mFunctional\u001b[0m)                    │                        │               │\n",
              "├─────────────────────────────────┼────────────────────────┼───────────────┤\n",
              "│ global_average_pooling2d_7      │ (\u001b[38;5;45mNone\u001b[0m, \u001b[38;5;34m1280\u001b[0m)           │             \u001b[38;5;34m0\u001b[0m │\n",
              "│ (\u001b[38;5;33mGlobalAveragePooling2D\u001b[0m)        │                        │               │\n",
              "├─────────────────────────────────┼────────────────────────┼───────────────┤\n",
              "│ dense_21 (\u001b[38;5;33mDense\u001b[0m)                │ (\u001b[38;5;45mNone\u001b[0m, \u001b[38;5;34m128\u001b[0m)            │       \u001b[38;5;34m163,968\u001b[0m │\n",
              "├─────────────────────────────────┼────────────────────────┼───────────────┤\n",
              "│ dropout_14 (\u001b[38;5;33mDropout\u001b[0m)            │ (\u001b[38;5;45mNone\u001b[0m, \u001b[38;5;34m128\u001b[0m)            │             \u001b[38;5;34m0\u001b[0m │\n",
              "├─────────────────────────────────┼────────────────────────┼───────────────┤\n",
              "│ dense_22 (\u001b[38;5;33mDense\u001b[0m)                │ (\u001b[38;5;45mNone\u001b[0m, \u001b[38;5;34m64\u001b[0m)             │         \u001b[38;5;34m8,256\u001b[0m │\n",
              "├─────────────────────────────────┼────────────────────────┼───────────────┤\n",
              "│ dropout_15 (\u001b[38;5;33mDropout\u001b[0m)            │ (\u001b[38;5;45mNone\u001b[0m, \u001b[38;5;34m64\u001b[0m)             │             \u001b[38;5;34m0\u001b[0m │\n",
              "├─────────────────────────────────┼────────────────────────┼───────────────┤\n",
              "│ dense_23 (\u001b[38;5;33mDense\u001b[0m)                │ (\u001b[38;5;45mNone\u001b[0m, \u001b[38;5;34m2\u001b[0m)              │           \u001b[38;5;34m130\u001b[0m │\n",
              "└─────────────────────────────────┴────────────────────────┴───────────────┘\n"
            ],
            "text/html": [
              "<pre style=\"white-space:pre;overflow-x:auto;line-height:normal;font-family:Menlo,'DejaVu Sans Mono',consolas,'Courier New',monospace\">┏━━━━━━━━━━━━━━━━━━━━━━━━━━━━━━━━━┳━━━━━━━━━━━━━━━━━━━━━━━━┳━━━━━━━━━━━━━━━┓\n",
              "┃<span style=\"font-weight: bold\"> Layer (type)                    </span>┃<span style=\"font-weight: bold\"> Output Shape           </span>┃<span style=\"font-weight: bold\">       Param # </span>┃\n",
              "┡━━━━━━━━━━━━━━━━━━━━━━━━━━━━━━━━━╇━━━━━━━━━━━━━━━━━━━━━━━━╇━━━━━━━━━━━━━━━┩\n",
              "│ mobilenetv2_1.00_224            │ (<span style=\"color: #00d7ff; text-decoration-color: #00d7ff\">None</span>, <span style=\"color: #00af00; text-decoration-color: #00af00\">7</span>, <span style=\"color: #00af00; text-decoration-color: #00af00\">7</span>, <span style=\"color: #00af00; text-decoration-color: #00af00\">1280</span>)     │     <span style=\"color: #00af00; text-decoration-color: #00af00\">2,257,984</span> │\n",
              "│ (<span style=\"color: #0087ff; text-decoration-color: #0087ff\">Functional</span>)                    │                        │               │\n",
              "├─────────────────────────────────┼────────────────────────┼───────────────┤\n",
              "│ global_average_pooling2d_7      │ (<span style=\"color: #00d7ff; text-decoration-color: #00d7ff\">None</span>, <span style=\"color: #00af00; text-decoration-color: #00af00\">1280</span>)           │             <span style=\"color: #00af00; text-decoration-color: #00af00\">0</span> │\n",
              "│ (<span style=\"color: #0087ff; text-decoration-color: #0087ff\">GlobalAveragePooling2D</span>)        │                        │               │\n",
              "├─────────────────────────────────┼────────────────────────┼───────────────┤\n",
              "│ dense_21 (<span style=\"color: #0087ff; text-decoration-color: #0087ff\">Dense</span>)                │ (<span style=\"color: #00d7ff; text-decoration-color: #00d7ff\">None</span>, <span style=\"color: #00af00; text-decoration-color: #00af00\">128</span>)            │       <span style=\"color: #00af00; text-decoration-color: #00af00\">163,968</span> │\n",
              "├─────────────────────────────────┼────────────────────────┼───────────────┤\n",
              "│ dropout_14 (<span style=\"color: #0087ff; text-decoration-color: #0087ff\">Dropout</span>)            │ (<span style=\"color: #00d7ff; text-decoration-color: #00d7ff\">None</span>, <span style=\"color: #00af00; text-decoration-color: #00af00\">128</span>)            │             <span style=\"color: #00af00; text-decoration-color: #00af00\">0</span> │\n",
              "├─────────────────────────────────┼────────────────────────┼───────────────┤\n",
              "│ dense_22 (<span style=\"color: #0087ff; text-decoration-color: #0087ff\">Dense</span>)                │ (<span style=\"color: #00d7ff; text-decoration-color: #00d7ff\">None</span>, <span style=\"color: #00af00; text-decoration-color: #00af00\">64</span>)             │         <span style=\"color: #00af00; text-decoration-color: #00af00\">8,256</span> │\n",
              "├─────────────────────────────────┼────────────────────────┼───────────────┤\n",
              "│ dropout_15 (<span style=\"color: #0087ff; text-decoration-color: #0087ff\">Dropout</span>)            │ (<span style=\"color: #00d7ff; text-decoration-color: #00d7ff\">None</span>, <span style=\"color: #00af00; text-decoration-color: #00af00\">64</span>)             │             <span style=\"color: #00af00; text-decoration-color: #00af00\">0</span> │\n",
              "├─────────────────────────────────┼────────────────────────┼───────────────┤\n",
              "│ dense_23 (<span style=\"color: #0087ff; text-decoration-color: #0087ff\">Dense</span>)                │ (<span style=\"color: #00d7ff; text-decoration-color: #00d7ff\">None</span>, <span style=\"color: #00af00; text-decoration-color: #00af00\">2</span>)              │           <span style=\"color: #00af00; text-decoration-color: #00af00\">130</span> │\n",
              "└─────────────────────────────────┴────────────────────────┴───────────────┘\n",
              "</pre>\n"
            ]
          },
          "metadata": {}
        },
        {
          "output_type": "display_data",
          "data": {
            "text/plain": [
              "\u001b[1m Total params: \u001b[0m\u001b[38;5;34m2,430,338\u001b[0m (9.27 MB)\n"
            ],
            "text/html": [
              "<pre style=\"white-space:pre;overflow-x:auto;line-height:normal;font-family:Menlo,'DejaVu Sans Mono',consolas,'Courier New',monospace\"><span style=\"font-weight: bold\"> Total params: </span><span style=\"color: #00af00; text-decoration-color: #00af00\">2,430,338</span> (9.27 MB)\n",
              "</pre>\n"
            ]
          },
          "metadata": {}
        },
        {
          "output_type": "display_data",
          "data": {
            "text/plain": [
              "\u001b[1m Trainable params: \u001b[0m\u001b[38;5;34m2,235,842\u001b[0m (8.53 MB)\n"
            ],
            "text/html": [
              "<pre style=\"white-space:pre;overflow-x:auto;line-height:normal;font-family:Menlo,'DejaVu Sans Mono',consolas,'Courier New',monospace\"><span style=\"font-weight: bold\"> Trainable params: </span><span style=\"color: #00af00; text-decoration-color: #00af00\">2,235,842</span> (8.53 MB)\n",
              "</pre>\n"
            ]
          },
          "metadata": {}
        },
        {
          "output_type": "display_data",
          "data": {
            "text/plain": [
              "\u001b[1m Non-trainable params: \u001b[0m\u001b[38;5;34m194,496\u001b[0m (759.75 KB)\n"
            ],
            "text/html": [
              "<pre style=\"white-space:pre;overflow-x:auto;line-height:normal;font-family:Menlo,'DejaVu Sans Mono',consolas,'Courier New',monospace\"><span style=\"font-weight: bold\"> Non-trainable params: </span><span style=\"color: #00af00; text-decoration-color: #00af00\">194,496</span> (759.75 KB)\n",
              "</pre>\n"
            ]
          },
          "metadata": {}
        },
        {
          "output_type": "stream",
          "name": "stdout",
          "text": [
            "Epoch 6/15\n",
            "\u001b[1m 54/109\u001b[0m \u001b[32m━━━━━━━━━\u001b[0m\u001b[37m━━━━━━━━━━━\u001b[0m \u001b[1m24s\u001b[0m 451ms/step - accuracy: 0.8647 - loss: 0.6333"
          ]
        },
        {
          "output_type": "stream",
          "name": "stderr",
          "text": [
            "/usr/local/lib/python3.12/dist-packages/keras/src/trainers/epoch_iterator.py:160: UserWarning: Your input ran out of data; interrupting training. Make sure that your dataset or generator can generate at least `steps_per_epoch * epochs` batches. You may need to use the `.repeat()` function when building your dataset.\n",
            "  self._interrupted_warning()\n"
          ]
        },
        {
          "output_type": "stream",
          "name": "stdout",
          "text": [
            "\b\b\b\b\b\b\b\b\b\b\b\b\b\b\b\b\b\b\b\b\b\b\b\b\b\b\b\b\b\b\b\b\b\b\b\b\b\b\b\b\b\b\b\b\b\b\b\b\b\b\b\b\b\b\b\b\b\b\b\b\b\b\b\b\b\b\b\b\b\b\b\b\b\b\b\b\b\r\u001b[1m109/109\u001b[0m \u001b[32m━━━━━━━━━━━━━━━━━━━━\u001b[0m\u001b[37m\u001b[0m \u001b[1m109s\u001b[0m 344ms/step - accuracy: 0.8753 - loss: 0.5715 - val_accuracy: 0.8109 - val_loss: 0.8749 - learning_rate: 1.0000e-05\n",
            "Epoch 7/15\n",
            "\u001b[1m109/109\u001b[0m \u001b[32m━━━━━━━━━━━━━━━━━━━━\u001b[0m\u001b[37m\u001b[0m \u001b[1m35s\u001b[0m 313ms/step - accuracy: 0.9068 - loss: 0.3639 - val_accuracy: 0.7676 - val_loss: 1.0462 - learning_rate: 1.0000e-05\n",
            "Epoch 8/15\n",
            "\u001b[1m 54/109\u001b[0m \u001b[32m━━━━━━━━━\u001b[0m\u001b[37m━━━━━━━━━━━\u001b[0m \u001b[1m26s\u001b[0m 490ms/step - accuracy: 0.9179 - loss: 0.3357\n",
            "Epoch 8: ReduceLROnPlateau reducing learning rate to 1.9999999494757505e-06.\n",
            "\u001b[1m109/109\u001b[0m \u001b[32m━━━━━━━━━━━━━━━━━━━━\u001b[0m\u001b[37m\u001b[0m \u001b[1m28s\u001b[0m 245ms/step - accuracy: 0.9161 - loss: 0.3409 - val_accuracy: 0.7484 - val_loss: 1.2371 - learning_rate: 1.0000e-05\n",
            "Epoch 9/15\n",
            "\u001b[1m109/109\u001b[0m \u001b[32m━━━━━━━━━━━━━━━━━━━━\u001b[0m\u001b[37m\u001b[0m \u001b[1m35s\u001b[0m 309ms/step - accuracy: 0.9337 - loss: 0.3167 - val_accuracy: 0.7516 - val_loss: 1.1600 - learning_rate: 2.0000e-06\n",
            "Epoch 9: early stopping\n",
            "Restoring model weights from the end of the best epoch: 6.\n"
          ]
        }
      ]
    },
    {
      "cell_type": "markdown",
      "source": [
        "#Final model evaluation"
      ],
      "metadata": {
        "id": "BHteayWUVtsv"
      }
    },
    {
      "cell_type": "code",
      "source": [
        "val_loss_finetune, val_accuracy_finetune = best_model.evaluate(test_ds)\n",
        "print(f'Fine-Tuned Validation Loss: {val_loss_finetune:.4f}')\n",
        "print(f'Fine-Tuned Validation Accuracy: {val_accuracy_finetune:.4f}')"
      ],
      "metadata": {
        "colab": {
          "base_uri": "https://localhost:8080/"
        },
        "id": "ub2KUFsEKcmn",
        "outputId": "d5b96c91-9831-497e-9a7d-4c3a1138b39f"
      },
      "execution_count": 24,
      "outputs": [
        {
          "output_type": "stream",
          "name": "stdout",
          "text": [
            "\u001b[1m13/13\u001b[0m \u001b[32m━━━━━━━━━━━━━━━━━━━━\u001b[0m\u001b[37m\u001b[0m \u001b[1m0s\u001b[0m 29ms/step - accuracy: 0.6704 - loss: 1.4024\n",
            "Fine-Tuned Validation Loss: 0.8749\n",
            "Fine-Tuned Validation Accuracy: 0.8109\n"
          ]
        }
      ]
    }
  ]
}